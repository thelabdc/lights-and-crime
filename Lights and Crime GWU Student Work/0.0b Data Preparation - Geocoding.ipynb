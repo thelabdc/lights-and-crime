{
 "cells": [
  {
   "cell_type": "markdown",
   "metadata": {},
   "source": [
    "# 0.0b Data Preparation - Geocoding\n",
    "Garrett Eason, Chris Broll, Shilpa Rajbhandari<br>\n",
    "*Note: the following can be memory intensive, you might need to use a computer high in RAM or use another IDE that is less RAM intensive (e.g. not JupyterNB)."
   ]
  },
  {
   "cell_type": "code",
   "execution_count": 1,
   "metadata": {},
   "outputs": [],
   "source": [
    "#%% Packages\n",
    "from __future__ import (absolute_import, division, print_function)\n",
    "from shapely.geometry import Point\n",
    "import pandas as pd\n",
    "import geopandas as gpd\n",
    "from geopandas import GeoDataFrame\n",
    "import datetime as dt\n",
    "import progressbar #used progressbar2\n",
    "\n",
    "#%% Data\n",
    "Windows = 'C:/Users/Sade/Documents/GitHub/lights-and-crime/Lights and Crime Garrett/Data'\n",
    "Linux = '/home/sade/Desktop/Git Cloned Repos/lights-and-crime/Lights and Crime Garrett/Data'\n",
    "\n",
    "choice = Linux"
   ]
  },
  {
   "cell_type": "markdown",
   "metadata": {},
   "source": [
    "## Data"
   ]
  },
  {
   "cell_type": "code",
   "execution_count": 2,
   "metadata": {},
   "outputs": [],
   "source": [
    "isf = pd.read_excel(choice + '/Lights.xlsx') # (from 0.0a)\n",
    "inv = pd.read_excel(choice + '/islims_inventory.xlsx') # (see 0.0a iSlims and City Work Data)\n",
    "wo = pd.read_excel(choice + '/islims_workorders.xlsx') # (see 0.0a iSlims and City Work Data)\n",
    "NCR = pd.read_excel(choice + '/NCR.xlsx') # (from 0.0a)\n",
    "DCR = pd.read_excel(choice + '/DCR.xlsx') # (from 0.0a)"
   ]
  },
  {
   "cell_type": "markdown",
   "metadata": {},
   "source": [
    "## Night Crimes"
   ]
  },
  {
   "cell_type": "code",
   "execution_count": 3,
   "metadata": {},
   "outputs": [],
   "source": [
    "#%% Prepping for Geojoin\n",
    "\n",
    "wo = wo.rename(columns={'woID':'WoID'})\n",
    "isf_wo = pd.merge(isf, wo, how='left', on = 'WoID')\n",
    "isf_wo = isf_wo.drop(['srchAssetID', 'gpscoordinateX', 'gpscoordinateY', 'initialproblemID', \\\n",
    "       'resolveddatetime', 'entereddate', 'finalresolutionID'], axis = 1)\n",
    "isf_wo_inv = pd.merge(isf_wo, inv, how='left', on = 'inventoryID')\n",
    "isf_wo_inv = isf_wo_inv.drop(['gpscoordinateX', 'gpscoordinateY'], axis = 1)\n",
    "\n",
    "# Setting up data into geopandas\n",
    "geometry = [Point(xy) for xy in zip(isf_wo_inv['gpsX'], isf_wo_inv['gpsY'])]\n",
    "gLights = GeoDataFrame(isf_wo_inv, geometry=geometry)\n",
    "gLights = gLights.drop_duplicates(subset = ['WoID'])\n",
    "geometry = [Point(xy) for xy in zip(NCR['X'], NCR['Y'])]\n",
    "gNCR = GeoDataFrame(NCR, geometry=geometry)\n",
    "\n",
    "BUFFER = .000625 # 1/4th of a city block in radius of Maryland coordinates.\n",
    "#BUFFER = .00125 # 1/2 of a city block in radius of Maryland coordinates.\n",
    "\n",
    "gLights_Buff = gLights.assign(geometry = lambda x: x.geometry.buffer(BUFFER)) \n",
    "# Overwrites geometry variable with a buffer centered at the point of interest. A.k.a. applies the function geometry(x) to gNCR and saves it as geometry."
   ]
  },
  {
   "cell_type": "code",
   "execution_count": 4,
   "metadata": {},
   "outputs": [],
   "source": [
    "#%% Geojoin - Note* this takes up a decent amount of memory, don't use if you are on a bad computer.\n",
    "\n",
    "Matched_NLights = gpd.sjoin(gLights_Buff, gNCR, 'left')\n",
    "# Left geojoin by buffer"
   ]
  },
  {
   "cell_type": "code",
   "execution_count": 5,
   "metadata": {},
   "outputs": [],
   "source": [
    "#%% Filtering (Note: 'flag' takes up the most cpu time/ skip if you already have the data)\n",
    "\n",
    "Matched_NLights['Crime_LO_intime'] = [0]*len(Matched_NLights) # Counter to be used\n",
    "\n",
    "Matched_NLights = Matched_NLights.dropna(subset = ['WoCompleted'])\n",
    "Matched_NLights = Matched_NLights.dropna(subset = ['REPORT_DAT'])\n",
    "Matched_NLights = Matched_NLights.reset_index(drop=True)\n",
    "\n",
    "# Flagging possible lights that influenced crime:\n",
    "def flag(z):\n",
    "    bar = progressbar.ProgressBar(maxval=len(z), widgets=[progressbar.ETA(), ' ', progressbar.Percentage()])\n",
    "    bar.start()\n",
    "    for i in range(len(z)):\n",
    "        print(bar.update(i+1))\n",
    "        try:\n",
    "            if abs(z.loc[i, 'WoCompleted'] - z.loc[i, 'REPORT_DAT']).days <= 10:\n",
    "                z.loc[i, 'Crime_LO_intime'] = 1\n",
    "        except:\n",
    "            z.loc[i, 'WoCompleted'] = dt.datetime.strptime(z.loc[i, 'WoCompleted'], '%Y-%m-%dT%H:%M:%S.%fZ') # Some values coded incorrectly.\n",
    "            if abs(z.loc[i, 'WoCompleted'] - z.loc[i, 'REPORT_DAT']).days <= 10:\n",
    "                z.loc[i, 'Crime_LO_intime'] = 1\n",
    "    bar.finish()\n",
    "    return z"
   ]
  },
  {
   "cell_type": "code",
   "execution_count": null,
   "metadata": {},
   "outputs": [],
   "source": [
    "Matched_NLights = flag(Matched_NLights)"
   ]
  },
  {
   "cell_type": "code",
   "execution_count": 7,
   "metadata": {},
   "outputs": [],
   "source": [
    "sum(Matched_NLights['Crime_LO_intime'])/len(Matched_NLights) # Rough Hit Ratio\n",
    "\n",
    "# Lights matched with a crime nearby outside of likely bulb outage\n",
    "Matched_NLights0 = Matched_NLights[Matched_NLights['Crime_LO_intime'] == 0].drop_duplicates(subset = 'WoID', keep = 'first')\n",
    "Matched_NLights0 = Matched_NLights0.drop(['index_right', 'geometry'], axis = 1)\n",
    "\n",
    "# Lights matched with a crime nearby within timeframe of light outage\n",
    "Matched_NLights1 = Matched_NLights[Matched_NLights['Crime_LO_intime'] == 1].drop_duplicates(subset = 'OBJECTID', keep = 'first')\n",
    "Matched_NLights1 = Matched_NLights1.drop(['index_right', 'geometry'], axis = 1)"
   ]
  },
  {
   "cell_type": "code",
   "execution_count": 9,
   "metadata": {},
   "outputs": [],
   "source": [
    "#%% To excel\n",
    "Matched_NLights0.to_excel(choice + '/geoLights0.xlsx')\n",
    "Matched_NLights1.to_excel(choice + '/geoLights1.xlsx')"
   ]
  },
  {
   "cell_type": "markdown",
   "metadata": {},
   "source": [
    "## Clearing Memory"
   ]
  },
  {
   "cell_type": "code",
   "execution_count": 10,
   "metadata": {},
   "outputs": [],
   "source": [
    "%reset -f"
   ]
  },
  {
   "cell_type": "markdown",
   "metadata": {},
   "source": [
    "## Day Crimes"
   ]
  },
  {
   "cell_type": "code",
   "execution_count": 1,
   "metadata": {},
   "outputs": [],
   "source": [
    "#%% Packages\n",
    "from __future__ import (absolute_import, division, print_function)\n",
    "from shapely.geometry import Point\n",
    "import pandas as pd\n",
    "import geopandas as gpd\n",
    "from geopandas import GeoDataFrame\n",
    "import datetime as dt\n",
    "import progressbar #used progressbar2\n",
    "\n",
    "#%% Data\n",
    "Windows = 'C:/Users/Sade/Documents/GitHub/lights-and-crime/Lights and Crime Garrett/Data'\n",
    "Linux = '/home/sade/Desktop/Git Cloned Repos/lights-and-crime/Lights and Crime Garrett/Data'\n",
    "\n",
    "choice = Linux"
   ]
  },
  {
   "cell_type": "code",
   "execution_count": 2,
   "metadata": {},
   "outputs": [],
   "source": [
    "isf = pd.read_excel(choice + '/Lights.xlsx') # (from 0.0a)\n",
    "inv = pd.read_excel(choice + '/islims_inventory.xlsx') # (see 0.0a iSlims and City Work Data)\n",
    "wo = pd.read_excel(choice + '/islims_workorders.xlsx') # (see 0.0a iSlims and City Work Data)\n",
    "NCR = pd.read_excel(choice + '/NCR.xlsx') # (from 0.0a)\n",
    "DCR = pd.read_excel(choice + '/DCR.xlsx') # (from 0.0a)"
   ]
  },
  {
   "cell_type": "code",
   "execution_count": 3,
   "metadata": {},
   "outputs": [],
   "source": [
    "#%% Prepping for Geojoin\n",
    "\n",
    "wo = wo.rename(columns={'woID':'WoID'})\n",
    "isf_wo = pd.merge(isf, wo, how='left', on = 'WoID')\n",
    "isf_wo = isf_wo.drop(['srchAssetID', 'gpscoordinateX', 'gpscoordinateY', 'initialproblemID', \\\n",
    "       'resolveddatetime', 'entereddate', 'finalresolutionID'], axis = 1)\n",
    "isf_wo_inv = pd.merge(isf_wo, inv, how='left', on = 'inventoryID')\n",
    "isf_wo_inv = isf_wo_inv.drop(['gpscoordinateX', 'gpscoordinateY'], axis = 1)\n",
    "\n",
    "# Setting up data into geopandas\n",
    "geometry = [Point(xy) for xy in zip(isf_wo_inv['gpsX'], isf_wo_inv['gpsY'])]\n",
    "gLights = GeoDataFrame(isf_wo_inv, geometry=geometry)\n",
    "gLights = gLights.drop_duplicates(subset = ['WoID'])\n",
    "geometry = [Point(xy) for xy in zip(DCR['X'], DCR['Y'])]\n",
    "gDCR = GeoDataFrame(DCR, geometry=geometry)\n",
    "\n",
    "BUFFER = .000625 # 1/4th of a city block in radius of Maryland coordinates.\n",
    "#BUFFER = .00125 # 1/2 of a city block in radius of Maryland coordinates.\n",
    "\n",
    "gLights_Buff = gLights.assign(geometry = lambda x: x.geometry.buffer(BUFFER)) \n",
    "# Overwrites geometry variable with a buffer centered at the point of interest. A.k.a. applies the function geometry(x) to gNCR and saves it as geometry."
   ]
  },
  {
   "cell_type": "code",
   "execution_count": null,
   "metadata": {},
   "outputs": [],
   "source": [
    "#%% Geojoin - Note* this takes up a decent amount of memory, don't use if you are on a bad computer.\n",
    "\n",
    "Matched_DLights = gpd.sjoin(gLights_Buff, gDCR, 'left')\n",
    "# Left geojoin by buffer"
   ]
  },
  {
   "cell_type": "code",
   "execution_count": 5,
   "metadata": {},
   "outputs": [],
   "source": [
    "#%% Filtering (Note: 'flag' takes up the most cpu time/ skip if you already have the data)\n",
    "\n",
    "Matched_DLights['Crime_LO_intime'] = [0]*len(Matched_DLights) # Counter to be used\n",
    "\n",
    "Matched_DLights = Matched_DLights.dropna(subset = ['WoCompleted'])\n",
    "Matched_DLights = Matched_DLights.dropna(subset = ['REPORT_DAT'])\n",
    "Matched_DLights = Matched_DLights.reset_index(drop=True)\n",
    "\n",
    "# Flagging possible lights that influenced crime:\n",
    "def flag(z):\n",
    "    bar = progressbar.ProgressBar(maxval=len(z), widgets=[progressbar.ETA(), ' ', progressbar.Percentage()])\n",
    "    bar.start()\n",
    "    for i in range(len(z)):\n",
    "        print(bar.update(i+1))\n",
    "        try:\n",
    "            if abs(z.loc[i, 'WoCompleted'] - z.loc[i, 'REPORT_DAT']).days <= 10:\n",
    "                z.loc[i, 'Crime_LO_intime'] = 1\n",
    "        except:\n",
    "            z.loc[i, 'WoCompleted'] = dt.datetime.strptime(z.loc[i, 'WoCompleted'], '%Y-%m-%dT%H:%M:%S.%fZ') # Some values coded incorrectly.\n",
    "            if abs(z.loc[i, 'WoCompleted'] - z.loc[i, 'REPORT_DAT']).days <= 10:\n",
    "                z.loc[i, 'Crime_LO_intime'] = 1\n",
    "    bar.finish()\n",
    "    return z"
   ]
  },
  {
   "cell_type": "code",
   "execution_count": null,
   "metadata": {},
   "outputs": [],
   "source": [
    "Matched_DLights = flag(Matched_DLights)"
   ]
  },
  {
   "cell_type": "code",
   "execution_count": null,
   "metadata": {},
   "outputs": [],
   "source": [
    "sum(Matched_DLights['Crime_LO_intime'])/len(Matched_DLights) # Rough Hit Ratio\n",
    "\n",
    "# Lights matched with a crime nearby outside of likely bulb outage\n",
    "Matched_DLights0 = Matched_DLights[Matched_DLights['Crime_LO_intime'] == 0].drop_duplicates(subset = 'WoID', keep = 'first')\n",
    "Matched_DLights0 = Matched_DLights0.drop(['index_right', 'geometry'], axis = 1)\n",
    "\n",
    "# Lights matched with a crime nearby within timeframe of light outage\n",
    "Matched_DLights1 = Matched_DLights[Matched_DLights['Crime_LO_intime'] == 1].drop_duplicates(subset = 'OBJECTID', keep = 'first')\n",
    "Matched_DLights1 = Matched_DLights1.drop(['index_right', 'geometry'], axis = 1)"
   ]
  },
  {
   "cell_type": "code",
   "execution_count": null,
   "metadata": {},
   "outputs": [],
   "source": [
    "#%% To excel\n",
    "Matched_DLights0.to_excel(choice + '/geoDLights0.xlsx')\n",
    "Matched_DLights1.to_excel(choice + '/geoDLights1.xlsx')"
   ]
  }
 ],
 "metadata": {
  "kernelspec": {
   "display_name": "Python 3",
   "language": "python",
   "name": "python3"
  },
  "language_info": {
   "codemirror_mode": {
    "name": "ipython",
    "version": 3
   },
   "file_extension": ".py",
   "mimetype": "text/x-python",
   "name": "python",
   "nbconvert_exporter": "python",
   "pygments_lexer": "ipython3",
   "version": "3.6.5"
  }
 },
 "nbformat": 4,
 "nbformat_minor": 2
}
