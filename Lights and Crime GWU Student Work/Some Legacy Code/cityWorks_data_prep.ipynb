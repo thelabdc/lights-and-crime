{
 "cells": [
  {
   "cell_type": "markdown",
   "metadata": {},
   "source": [
    "# Cityworks Data\n",
    "## Data Preparation for Merger with ISlims Data"
   ]
  },
  {
   "cell_type": "code",
   "execution_count": 74,
   "metadata": {},
   "outputs": [],
   "source": [
    "import pandas as pd\n",
    "import matplotlib as plt"
   ]
  },
  {
   "cell_type": "code",
   "execution_count": 115,
   "metadata": {
    "scrolled": false
   },
   "outputs": [
    {
     "name": "stderr",
     "output_type": "stream",
     "text": [
      "/anaconda3/lib/python3.6/site-packages/IPython/core/interactiveshell.py:2728: DtypeWarning: Columns (41) have mixed types. Specify dtype option on import or set low_memory=False.\n",
      "  interactivity=interactivity, compiler=compiler, result=result)\n"
     ]
    }
   ],
   "source": [
    "CW = pd.read_csv(\"data/Cityworks_Workorders.csv\")"
   ]
  },
  {
   "cell_type": "code",
   "execution_count": 138,
   "metadata": {},
   "outputs": [
    {
     "data": {
      "text/plain": [
       "Index(['X', 'Y', 'OBJECTID', 'WORKORDERID', 'PROJECTID', 'DESCRIPTION',\n",
       "       'STATUS', 'INITIATEDDATE', 'WORKORDERCLOSEDDATE', 'ACTUALSTARTDATE',\n",
       "       'ACTUALFINISHDATE', 'PROJECTNAME', 'PRIORITY', 'SOURCEWORKORDERID',\n",
       "       'CYCLETYPE', 'SCHEDULEDATE', 'WORKORDERCATEGORY', 'UNATTACHED',\n",
       "       'WORKORDERCOST', 'WORKORDERLABORCOST', 'WORKORDERMATERIALCOST',\n",
       "       'WORKORDEREQUIPMENTCOST', 'SUBMITTEDTO', 'SUBMITTEDTODATE',\n",
       "       'WORKCOMPLETEDBY', 'WORKORDERCLOSEDBY', 'ISCANCELED', 'CANCELEDBY',\n",
       "       'CANCELEDDATE', 'ASSETGROUP', 'SUPERVISOR', 'REQUESTEDBY',\n",
       "       'INITIATEDBY', 'ADDRESS', 'FISCALYEAR', 'WARD', 'QUADRANT', 'ZIPCODE',\n",
       "       'ANC', 'SMD', 'NEIGHBORHOODCLUSTERS', 'NEIGHBORHOODNAMES', 'BID', 'AWI',\n",
       "       'EDZ', 'NIF', 'HISTORICDISTRICT', 'ZONING', 'PUD', 'CFAR', 'PSA', 'PD',\n",
       "       'DAYSTOCLOSE', 'UPDATEDATE', 'XCOORD', 'YCOORD', 'ONSEGX', 'ONSEGY',\n",
       "       'LONGITUDE', 'LATITUDE'],\n",
       "      dtype='object')"
      ]
     },
     "execution_count": 138,
     "metadata": {},
     "output_type": "execute_result"
    }
   ],
   "source": [
    "CW.columns"
   ]
  },
  {
   "cell_type": "code",
   "execution_count": 139,
   "metadata": {},
   "outputs": [],
   "source": [
    "some_vars = [\"WORKORDERID\",\"WORKORDERCLOSEDDATE\",\"INITIATEDDATE\",\"DESCRIPTION\", \"LATITUDE\", \"LONGITUDE\", \"X\", \"Y\"]"
   ]
  },
  {
   "cell_type": "code",
   "execution_count": 140,
   "metadata": {
    "scrolled": true
   },
   "outputs": [
    {
     "data": {
      "text/plain": [
       "array(['WARRANTY', 'TREE REMOVAL', 'PRUNING', 'POTHOLE STREET REPAIR',\n",
       "       'SIDEWALK REMOVE ', 'PLANTING', 'EMERGENCY', 'STRAIGHTEN POST',\n",
       "       'ALLEY REPAIR', 'SIDEWALK REMOVE & REPLACE',\n",
       "       'INSPECT PROBLEM AREA', 'PARKING SIGN REPLACEMENT',\n",
       "       'PARKING SIGN NEW INSTALL', 'ALLEY UNIMPROVED REPAIR',\n",
       "       'PRUNING (ELM)', 'REGULATORY SIGN REPLACEMENT',\n",
       "       'BIKE ROUTE SIGN REPAIR', 'STREET NAME SIGN REPLACEMENT',\n",
       "       'STREET PAVING', 'INSPECTION', 'POTHOLE ALLEY REPAIR',\n",
       "       'ALLEY PAVING', 'SIGN POLE REPAIR',\n",
       "       'HANDICAP PARKING SIGN NEW INSTALL', 'OTHER SIGN REPLACEMENT',\n",
       "       'OTHER SIGN NEW INSTALL', 'CROSSWALK PAINTING (PAINT)',\n",
       "       'INFORMATIONAL SIGN NEW INSTALL', 'STUMP REMOVAL',\n",
       "       'SIGN POLE REPLACEMENT', 'SIDEWALK INSPECTION',\n",
       "       'STREET GENERAL REPAIR', 'MOVE SIGN ONLY TO NEW LOCATION',\n",
       "       'CURB & GUTTER INSTALL', 'SIDEWALK INSTALL',\n",
       "       'INFORMATIONAL SIGN REPLACEMENT', 'CURB & GUTTER REMOVE & REPLACE',\n",
       "       'DIRECTIONAL SIGNAGE REMOVAL', 'CURB  REMOVE ',\n",
       "       'STOP BAR PAINTING (THERMO)', 'WARING SIGN NEW INSTALL',\n",
       "       'STRIPING WHITE LINE PAINTING (PAINT)',\n",
       "       'REGULATORY SIGN NEW INSTALL', 'SCHOOL SIGN REQUEST ASSESSMENT',\n",
       "       'SCHOOL SIGNS NEW INSTALL', 'INFORMATIONAL SIGN REPAIR',\n",
       "       'UNSPECIFIED TASK', 'REGULATORY SIGN REPAIR', 'OTHER SIGN REPAIR',\n",
       "       'TREE REMOVAL (ELM - DED)', 'PYLON REPLACE',\n",
       "       'STOP BAR PAINTING (PAINT)', 'ALLEY REPAIR - TEMP ONLY',\n",
       "       'PARKING SIGN REMOVAL', 'SIGN POLE REMOVAL',\n",
       "       'WARNING SIGN REPLACEMENT', 'WARNING SIGN REPAIR',\n",
       "       'CROSSWALK PAINTING (THERMO)', 'WARNING SIGN REMOVAL',\n",
       "       'PARKING DECAL REPLACEMENT', 'PYLON NEW',\n",
       "       'STREET NAME SIGN NEW INSTALL', 'PARKING SIGN REQUEST ASSESSMENT',\n",
       "       'CURB & GUTTER INSPECTION', 'PARKING SIGN REPAIR',\n",
       "       'STREET NAME SIGN REPAIR', 'STREET CRACK SEALING REPAIR',\n",
       "       'HANDICAP PARKING SIGN REMOVAL', 'OTHER MARKING REMOVAL',\n",
       "       'REGULATORY SIGN REQUEST ASSESSMENT',\n",
       "       'INFORMATION SIGN REQUEST ASSESSMENT',\n",
       "       'STREET NAME SIGN REQUEST ASSESSMENT',\n",
       "       'OTHER SIGN REQUEST ASSESSMENT', 'OTHER SIGN REMOVAL',\n",
       "       'CHECK REFLECTIVITY', 'PARKING DECAL NEW INSTALL', 'STORM',\n",
       "       'SIGNAL REPLACE', 'SPEED HUMP INSTALL',\n",
       "       'INVESTIGATION - INSPECTION', 'INSTALL', 'CURB  INSTALL',\n",
       "       'RECONSTRUCT/UPGRADE/MODIFY', 'REPAINT STREET MARKING (PAINT)',\n",
       "       'SIGNAL INSTALL', 'INSPECT', 'EMERGENCY REPAIR', 'SIGNAL INSPECT',\n",
       "       'INSTALL SPEED HUMP MARKING', 'REPAIR', 'PRUNING (ELM-SANITATION)',\n",
       "       'INFORMATIONAL SIGN REMOVAL', 'OTHER SIGN ASSESSMENT - SIOU',\n",
       "       'STREET INSPECTION', 'OTHER MARKINGS INSTALL', 'TRIM TREES',\n",
       "       'HANDICAP PARKING SIGN REPAIR', 'DIRECTIONAL SIGNAGE NEW INSTALL',\n",
       "       'DIRECTIONAL SIGNAGE REQUEST ASSESSMENT', 'METER INSTALL',\n",
       "       'ELM INJECTION', 'HANDICAP PARKING SIGN REQUEST ASSESSMENT',\n",
       "       'DIRECTIONAL SIGNAGE REPLACEMENT', 'STORM (DEBRIS PILE)',\n",
       "       'SPEED HUMP REPAIR', 'STORM (HAZARD PRUNE)',\n",
       "       'STORM (TREE REMOVAL)', 'REPAINT STREET MARKING (THERMO)',\n",
       "       'STORM (STUMP)', 'PLANTING (SPECIAL PERMIT)',\n",
       "       'SCHOOL SIGNS REPLACEMENT', 'ARROW PAINTING (PAINT)',\n",
       "       'STREET NAME SIGN ASSESSMENT - SIOU',\n",
       "       'OTHER MARKINGS REPLACE/REPAIR',\n",
       "       'HANDICAP PARKING SIGN ASSESSMENT - SIOU',\n",
       "       'DIRECTIONAL SIGNAGE REPAIR',\n",
       "       'PAVEMENT MARKING DELINEATOR POST REPLACE', 'PYLON REPAIR',\n",
       "       'U POLE REMOVAL', 'SCHOOL SIGNS REPAIR',\n",
       "       'STREET PAVING - TEMP ONLY', 'WARNING SIGN REUQEST ASSESSMENT',\n",
       "       'BIKE ROUTE SIGN NEW INSTALL',\n",
       "       'MOVE POST/STUB/SIGN TO NEW LOCATION', 'DEPLOY TEMPORARY SIGN',\n",
       "       'STREET NAME SIGN REMOVAL',\n",
       "       'STRIPING YELLOW LINE PAINTING (PAINT)', 'ARROW PAINTING (THERMO)',\n",
       "       'SIGN REMOVAL', 'SAFETY INSPECTION', 'PERMITS',\n",
       "       'OTHER LINE REMOVAL', 'ALLEY PAVING - TEMP ONLY',\n",
       "       'BIKE ROUTE SIGN REPLACEMENT', 'LIGHT-LEANING POLE',\n",
       "       'LIGHT-INFRASTRUCTURE MANHOLE/HANDHOLD INSPECTION',\n",
       "       'CROSSWALK REMOVAL (PAINT)', 'ALLEY INSPECTION',\n",
       "       'SIDEWALK TEMPORARY REPAIR', 'CURB  INSPECTION',\n",
       "       'BIKE ROUTE SIGN REMOVAL',\n",
       "       'PAVEMENT MARKING DELINEATOR POST INSTALL', 'SIGNAL REMOVE',\n",
       "       'REGULATORY SIGN REMOVAL', 'STRIPING WHITE LINE REMOVAL (PAINT)',\n",
       "       'CABINETS REPAIR', 'SIGNAL TEST', 'REPAINT CROSS WALK (PAINT)',\n",
       "       'MISS UTILITIES - NORMAL REQUEST', 'PARKING DECAL REPAIR',\n",
       "       'SIGN REMOVAL & REPLACEMENT', 'REGULATORY SIGN ASSESSMENT - SIOU',\n",
       "       'METER INSPECT', 'REPLACE HEAD', 'PARKING DECAL REMOVAL',\n",
       "       'INSTALL BIKE LANE', 'STRIPING YELLOW LINE PAINTING (THERMO)',\n",
       "       'PYLON REMOVAL', 'LIGHT-LIGHT POLE BRIDGE LIGHTING OUT',\n",
       "       'METER REPAIR', 'SIDEWALK SAW CUTTING', 'SIGNAL REPAIR', 'REPLACE',\n",
       "       'REPAINT LANE STRIPING', 'STRAIGHTEN SIGN', 'SCHOOL SIGNS REMOVAL',\n",
       "       'BICYCLE RACK INSTALL', 'REPAINT CURB STRIPING',\n",
       "       'SIGN NEW INSTALL', 'MAINTAIN', 'SIGN POLE NEW INSTALL',\n",
       "       'STOP BAR REMOVAL (PAINT)', 'BICYCLE RACK REPAIR',\n",
       "       'LIGHT-INFRASTRUCTURE NAVIGATION LIGHTS', 'TREE BILL',\n",
       "       'PRUNNING (CONTRACT)', 'SIGN REMOVAL ', 'SIGN MAINT & REPAIR',\n",
       "       'GINKGO INJECTION', 'MAINT EQUIPMENT', 'SIGN MOUNT REPAIR',\n",
       "       'U POLE INSTALL', 'INFORMATION SIGN ASSESSMENT - SIOU',\n",
       "       'STRIPING WHITE LINE PAINTING (THERMO)',\n",
       "       'LIGHT-LIGHT POLE MISSING POLE', 'CONTROLLER MAINT & REPAIR',\n",
       "       'SIGN MAINT ', 'CROSSWALK REMOVAL (THERMO)', 'MISCELLANEOUS WORK',\n",
       "       'WARNING SIGN NEW INSTALL', 'LIGHT-INFRASTRUCTURE INSTALL',\n",
       "       'DISABLED  PARKING SIGN REQUEST ASSESSMENT', 'SIGNAL RESET',\n",
       "       'REPAIR BIKE LANE', 'LIGHT-INFRASTRUCTURE BRIDGE CONTROL',\n",
       "       'LIGHT-INFRASTRUCTURE MISS UTILITY REQUEST', 'WORK MISCELLANEOUS',\n",
       "       'LIGHT-INFRASTRUCTURE WTW SIGN NO CURRENT', 'POLE REMOVE & REPAIR',\n",
       "       'ARROW REMOVAL (PAINT)', 'SIGNAL RECONSTRUCT/UPGRADE/MODIFY',\n",
       "       'POLE REMOVE ', 'DIRECTIONAL SIGNAGE ASSESSMENT - SIOU',\n",
       "       'METER MAINTAIN', 'LIGHT-INFRASTRUCTURE CHINA TOWN ARCH',\n",
       "       'LIGHT-INFRASTRUCTURE WTW SIGN LIGHT OUT',\n",
       "       'STOP BAR REMOVAL (THERMO)', 'LIGHT-INVESTIGATION',\n",
       "       'LIGHT-INFRASTRUCTURE MANHOLE CLEANING', 'BIKE PATH REPAIR',\n",
       "       'PAVEMENT MARKING DELINEATOR POST REMOVAL',\n",
       "       'PEDESTRIAN HEAD MAINT & REPAIR', 'INFRASTRUCTURE BRIDGE CONTROL',\n",
       "       'SIGN FABRICATION', 'DISABLED  PARKING SIGN NEW INSTALL',\n",
       "       'INSTALL BIKE LANE SYMBOLS', 'INFRASTRUCTURE MISS UTILITY REQUEST',\n",
       "       'TRAFFIC CALMING', 'LIGHT POLE LIGHT OUT',\n",
       "       'LIGHT POLE KNOCK-DOWNS/WIRESDOWN',\n",
       "       'STRIPING YELLOW LINE REMOVAL (THERMO)',\n",
       "       'LIGHT POLE BRIDGE LIGHTING NO CURRENT', 'BIKE RACK REPAIR',\n",
       "       'QUICK CURB REPAIR', 'LIGHT POLE POLE AND BASE ACCESS DOORS',\n",
       "       'LIGHT POLE DAY BURNER', 'INFRASTRUCTURE WTW SIGN NO CURRENT',\n",
       "       'INFRASTRUCTURE OUT OF GRADE MANHOLES', 'LIGHT POLE DIM LIGHT',\n",
       "       'INFRASTRUCTURE CHINA TOWN ARCH', 'LIGHT POLE NO CURRENT',\n",
       "       'LIGHT POLE ELEPHANT EARS', 'L - SPECIALTY NO CURRENT',\n",
       "       'HOT SPOT NO CURRENT', 'LEANING POLE', 'LIGHT MALFUNCTION',\n",
       "       'REPAIR/REPLACE POLE', 'ARBOR', 'NO CURRENT / WITH CUT',\n",
       "       'HOT SPOT NO CURRENT / WITH CUT', 'COVERS / DOORS', 'EARS / BASES',\n",
       "       'NAVIGATION MALFUNCTION', 'INVENTORY', 'PRIORITY RESPONSE',\n",
       "       'NO CURRENT', 'MANHOLE', 'CONSTRUCTION', 'HOT SPOT MALFUNCTION',\n",
       "       'TRANSFER, RELOCATE, REMOVE, SHIELDS', 'SPECIALTY NO CURRENT',\n",
       "       'DISABLED  PARKING SIGN REMOVAL', 'INTRA-AGENCY TRANSFER',\n",
       "       'MAINTENANCE REPAIR', 'POLE PAINTING', 'LIGHTING SURVEY',\n",
       "       'FABRICATE ALL SIGNS', 'DISABLED  PARKING SIGN REPAIR',\n",
       "       'SCHOOL SIGN ASSESSMENT - SIOU', 'POLE INSPECT',\n",
       "       'QUICK CURB INSTALL', 'PEDESTRIAN HEAD MAINT ', 'MAINT MACHINERY',\n",
       "       'BUILDING  MAINT', 'GENERAL ADMINISTRATION',\n",
       "       'POLE RECONSTRUCT/UPGRADE/MODIFY', 'POLE PAINT', 'POLE INSTALL',\n",
       "       'MESSAGE SIGN', 'SAFETY TECH CHECK IN/OUT', 'CONTRACTOR COMPLAINT',\n",
       "       'METER REPAIR TEST', 'PEDESTRIAN HEAD NEW INSTALL',\n",
       "       'CABINETS CLEAN', 'POLE NEW CONSTRUCTION'], dtype=object)"
      ]
     },
     "execution_count": 140,
     "metadata": {},
     "output_type": "execute_result"
    }
   ],
   "source": [
    "CW[\"DESCRIPTION\"].unique()"
   ]
  },
  {
   "cell_type": "code",
   "execution_count": 141,
   "metadata": {},
   "outputs": [
    {
     "data": {
      "text/plain": [
       "array(['LIGHT-LEANING POLE',\n",
       "       'LIGHT-INFRASTRUCTURE MANHOLE/HANDHOLD INSPECTION',\n",
       "       'LIGHT-LIGHT POLE BRIDGE LIGHTING OUT',\n",
       "       'LIGHT-INFRASTRUCTURE NAVIGATION LIGHTS',\n",
       "       'LIGHT-LIGHT POLE MISSING POLE', 'LIGHT-INFRASTRUCTURE INSTALL',\n",
       "       'LIGHT-INFRASTRUCTURE BRIDGE CONTROL',\n",
       "       'LIGHT-INFRASTRUCTURE MISS UTILITY REQUEST',\n",
       "       'LIGHT-INFRASTRUCTURE WTW SIGN NO CURRENT',\n",
       "       'LIGHT-INFRASTRUCTURE CHINA TOWN ARCH',\n",
       "       'LIGHT-INFRASTRUCTURE WTW SIGN LIGHT OUT', 'LIGHT-INVESTIGATION',\n",
       "       'LIGHT-INFRASTRUCTURE MANHOLE CLEANING', 'LIGHT POLE LIGHT OUT',\n",
       "       'LIGHT POLE KNOCK-DOWNS/WIRESDOWN',\n",
       "       'LIGHT POLE BRIDGE LIGHTING NO CURRENT',\n",
       "       'LIGHT POLE POLE AND BASE ACCESS DOORS', 'LIGHT POLE DAY BURNER',\n",
       "       'LIGHT POLE DIM LIGHT', 'LIGHT POLE NO CURRENT',\n",
       "       'LIGHT POLE ELEPHANT EARS', 'LIGHT MALFUNCTION', 'LIGHTING SURVEY'],\n",
       "      dtype=object)"
      ]
     },
     "execution_count": 141,
     "metadata": {},
     "output_type": "execute_result"
    }
   ],
   "source": [
    "mask1 = CW[\"DESCRIPTION\"].str.contains('LIGHT')\n",
    "CW[mask1][\"DESCRIPTION\"].unique()"
   ]
  },
  {
   "cell_type": "code",
   "execution_count": 142,
   "metadata": {
    "scrolled": true
   },
   "outputs": [
    {
     "data": {
      "text/plain": [
       "array(['LIGHT-LIGHT POLE BRIDGE LIGHTING OUT',\n",
       "       'LIGHT-LIGHT POLE MISSING POLE', 'LIGHT POLE LIGHT OUT',\n",
       "       'LIGHT POLE KNOCK-DOWNS/WIRESDOWN',\n",
       "       'LIGHT POLE BRIDGE LIGHTING NO CURRENT',\n",
       "       'LIGHT POLE POLE AND BASE ACCESS DOORS', 'LIGHT POLE DAY BURNER',\n",
       "       'LIGHT POLE DIM LIGHT', 'LIGHT POLE NO CURRENT',\n",
       "       'LIGHT POLE ELEPHANT EARS'], dtype=object)"
      ]
     },
     "execution_count": 142,
     "metadata": {},
     "output_type": "execute_result"
    }
   ],
   "source": [
    "mask2 = CW[\"DESCRIPTION\"].str.contains('LIGHT POLE')\n",
    "CW[mask2][\"DESCRIPTION\"].unique()"
   ]
  },
  {
   "cell_type": "code",
   "execution_count": 143,
   "metadata": {},
   "outputs": [],
   "source": [
    "CW_1 = CW[CW[\"DESCRIPTION\"]==\"LIGHT POLE LIGHT OUT\"][some_vars]\n",
    "CW_2 = CW[CW[\"DESCRIPTION\"]==\"LIGHT MALFUNCTION\"][some_vars]"
   ]
  },
  {
   "cell_type": "code",
   "execution_count": 144,
   "metadata": {
    "scrolled": true
   },
   "outputs": [
    {
     "data": {
      "text/html": [
       "<div>\n",
       "<style scoped>\n",
       "    .dataframe tbody tr th:only-of-type {\n",
       "        vertical-align: middle;\n",
       "    }\n",
       "\n",
       "    .dataframe tbody tr th {\n",
       "        vertical-align: top;\n",
       "    }\n",
       "\n",
       "    .dataframe thead th {\n",
       "        text-align: right;\n",
       "    }\n",
       "</style>\n",
       "<table border=\"1\" class=\"dataframe\">\n",
       "  <thead>\n",
       "    <tr style=\"text-align: right;\">\n",
       "      <th></th>\n",
       "      <th>WORKORDERID</th>\n",
       "      <th>WORKORDERCLOSEDDATE</th>\n",
       "      <th>INITIATEDDATE</th>\n",
       "      <th>DESCRIPTION</th>\n",
       "      <th>LATITUDE</th>\n",
       "      <th>LONGITUDE</th>\n",
       "      <th>X</th>\n",
       "      <th>Y</th>\n",
       "    </tr>\n",
       "  </thead>\n",
       "  <tbody>\n",
       "    <tr>\n",
       "      <th>186255</th>\n",
       "      <td>505685</td>\n",
       "      <td>2017-03-20T14:48:13.000Z</td>\n",
       "      <td>2016-03-08T14:29:18.000Z</td>\n",
       "      <td>LIGHT POLE LIGHT OUT</td>\n",
       "      <td>38.893547</td>\n",
       "      <td>-76.913673</td>\n",
       "      <td>-76.913415</td>\n",
       "      <td>38.893556</td>\n",
       "    </tr>\n",
       "    <tr>\n",
       "      <th>186256</th>\n",
       "      <td>505686</td>\n",
       "      <td>2017-03-20T14:36:02.000Z</td>\n",
       "      <td>2016-03-08T14:29:24.000Z</td>\n",
       "      <td>LIGHT POLE LIGHT OUT</td>\n",
       "      <td>38.893547</td>\n",
       "      <td>-76.913673</td>\n",
       "      <td>-76.913415</td>\n",
       "      <td>38.893556</td>\n",
       "    </tr>\n",
       "    <tr>\n",
       "      <th>186257</th>\n",
       "      <td>505687</td>\n",
       "      <td>2017-03-20T14:36:02.000Z</td>\n",
       "      <td>2016-03-08T14:29:25.000Z</td>\n",
       "      <td>LIGHT POLE LIGHT OUT</td>\n",
       "      <td>38.893547</td>\n",
       "      <td>-76.913673</td>\n",
       "      <td>-76.913415</td>\n",
       "      <td>38.893556</td>\n",
       "    </tr>\n",
       "    <tr>\n",
       "      <th>186258</th>\n",
       "      <td>505688</td>\n",
       "      <td>2017-03-20T14:36:02.000Z</td>\n",
       "      <td>2016-03-08T14:29:26.000Z</td>\n",
       "      <td>LIGHT POLE LIGHT OUT</td>\n",
       "      <td>38.893547</td>\n",
       "      <td>-76.913673</td>\n",
       "      <td>-76.913415</td>\n",
       "      <td>38.893556</td>\n",
       "    </tr>\n",
       "    <tr>\n",
       "      <th>186259</th>\n",
       "      <td>505689</td>\n",
       "      <td>2017-03-20T14:36:02.000Z</td>\n",
       "      <td>2016-03-08T14:29:32.000Z</td>\n",
       "      <td>LIGHT POLE LIGHT OUT</td>\n",
       "      <td>38.893547</td>\n",
       "      <td>-76.913673</td>\n",
       "      <td>-76.913415</td>\n",
       "      <td>38.893556</td>\n",
       "    </tr>\n",
       "  </tbody>\n",
       "</table>\n",
       "</div>"
      ],
      "text/plain": [
       "        WORKORDERID       WORKORDERCLOSEDDATE             INITIATEDDATE  \\\n",
       "186255       505685  2017-03-20T14:48:13.000Z  2016-03-08T14:29:18.000Z   \n",
       "186256       505686  2017-03-20T14:36:02.000Z  2016-03-08T14:29:24.000Z   \n",
       "186257       505687  2017-03-20T14:36:02.000Z  2016-03-08T14:29:25.000Z   \n",
       "186258       505688  2017-03-20T14:36:02.000Z  2016-03-08T14:29:26.000Z   \n",
       "186259       505689  2017-03-20T14:36:02.000Z  2016-03-08T14:29:32.000Z   \n",
       "\n",
       "                 DESCRIPTION   LATITUDE  LONGITUDE          X          Y  \n",
       "186255  LIGHT POLE LIGHT OUT  38.893547 -76.913673 -76.913415  38.893556  \n",
       "186256  LIGHT POLE LIGHT OUT  38.893547 -76.913673 -76.913415  38.893556  \n",
       "186257  LIGHT POLE LIGHT OUT  38.893547 -76.913673 -76.913415  38.893556  \n",
       "186258  LIGHT POLE LIGHT OUT  38.893547 -76.913673 -76.913415  38.893556  \n",
       "186259  LIGHT POLE LIGHT OUT  38.893547 -76.913673 -76.913415  38.893556  "
      ]
     },
     "execution_count": 144,
     "metadata": {},
     "output_type": "execute_result"
    }
   ],
   "source": [
    "frames = [CW_1,CW_2]\n",
    "CW_new = pd.concat(frames)\n",
    "\n",
    "CW_new.head()"
   ]
  },
  {
   "cell_type": "code",
   "execution_count": 145,
   "metadata": {},
   "outputs": [],
   "source": [
    "CW_new = CW_new.sort_values(by=\"INITIATEDDATE\", ascending=False)"
   ]
  },
  {
   "cell_type": "code",
   "execution_count": 146,
   "metadata": {},
   "outputs": [],
   "source": [
    "CW_new = CW_new.reset_index()\n",
    "del CW_new[\"index\"]"
   ]
  },
  {
   "cell_type": "code",
   "execution_count": 150,
   "metadata": {},
   "outputs": [],
   "source": [
    "final_vars = [\"WORKORDERID\",\"INITIATEDDATE\", \"WORKORDERCLOSEDDATE\",\"X\", \"Y\"]\n",
    "CW_new = CW_new[final_vars]\n",
    "CW_new.columns = [\"WoID\", \"WoEntered\", \"WoCompleted\", \"gpsX\", \"gpsY\"]"
   ]
  },
  {
   "cell_type": "code",
   "execution_count": 152,
   "metadata": {},
   "outputs": [
    {
     "data": {
      "text/html": [
       "<div>\n",
       "<style scoped>\n",
       "    .dataframe tbody tr th:only-of-type {\n",
       "        vertical-align: middle;\n",
       "    }\n",
       "\n",
       "    .dataframe tbody tr th {\n",
       "        vertical-align: top;\n",
       "    }\n",
       "\n",
       "    .dataframe thead th {\n",
       "        text-align: right;\n",
       "    }\n",
       "</style>\n",
       "<table border=\"1\" class=\"dataframe\">\n",
       "  <thead>\n",
       "    <tr style=\"text-align: right;\">\n",
       "      <th></th>\n",
       "      <th>WoID</th>\n",
       "      <th>WoEnter</th>\n",
       "      <th>WoComplete</th>\n",
       "      <th>gpsX</th>\n",
       "      <th>gpsY</th>\n",
       "    </tr>\n",
       "  </thead>\n",
       "  <tbody>\n",
       "    <tr>\n",
       "      <th>0</th>\n",
       "      <td>552514</td>\n",
       "      <td>2017-03-10T11:04:32.000Z</td>\n",
       "      <td>2017-03-10T11:04:36.000Z</td>\n",
       "      <td>-76.989780</td>\n",
       "      <td>38.885631</td>\n",
       "    </tr>\n",
       "    <tr>\n",
       "      <th>1</th>\n",
       "      <td>552493</td>\n",
       "      <td>2017-03-10T10:36:04.000Z</td>\n",
       "      <td>2017-03-10T10:36:10.000Z</td>\n",
       "      <td>-77.063160</td>\n",
       "      <td>38.974114</td>\n",
       "    </tr>\n",
       "    <tr>\n",
       "      <th>2</th>\n",
       "      <td>552422</td>\n",
       "      <td>2017-03-10T04:37:59.000Z</td>\n",
       "      <td>2017-03-10T04:38:04.000Z</td>\n",
       "      <td>-76.925394</td>\n",
       "      <td>38.902856</td>\n",
       "    </tr>\n",
       "    <tr>\n",
       "      <th>3</th>\n",
       "      <td>552419</td>\n",
       "      <td>2017-03-10T04:19:29.000Z</td>\n",
       "      <td>2017-03-10T04:19:33.000Z</td>\n",
       "      <td>-77.034440</td>\n",
       "      <td>38.907342</td>\n",
       "    </tr>\n",
       "    <tr>\n",
       "      <th>4</th>\n",
       "      <td>552414</td>\n",
       "      <td>2017-03-10T03:59:05.000Z</td>\n",
       "      <td>2017-03-10T03:59:10.000Z</td>\n",
       "      <td>-76.926684</td>\n",
       "      <td>38.903452</td>\n",
       "    </tr>\n",
       "  </tbody>\n",
       "</table>\n",
       "</div>"
      ],
      "text/plain": [
       "     WoID                   WoEnter                WoComplete       gpsX  \\\n",
       "0  552514  2017-03-10T11:04:32.000Z  2017-03-10T11:04:36.000Z -76.989780   \n",
       "1  552493  2017-03-10T10:36:04.000Z  2017-03-10T10:36:10.000Z -77.063160   \n",
       "2  552422  2017-03-10T04:37:59.000Z  2017-03-10T04:38:04.000Z -76.925394   \n",
       "3  552419  2017-03-10T04:19:29.000Z  2017-03-10T04:19:33.000Z -77.034440   \n",
       "4  552414  2017-03-10T03:59:05.000Z  2017-03-10T03:59:10.000Z -76.926684   \n",
       "\n",
       "        gpsY  \n",
       "0  38.885631  \n",
       "1  38.974114  \n",
       "2  38.902856  \n",
       "3  38.907342  \n",
       "4  38.903452  "
      ]
     },
     "execution_count": 152,
     "metadata": {},
     "output_type": "execute_result"
    }
   ],
   "source": [
    "CW_new.head()"
   ]
  },
  {
   "cell_type": "code",
   "execution_count": 153,
   "metadata": {},
   "outputs": [],
   "source": [
    "writer = pd.ExcelWriter('city_works_merger_data.xlsx')\n",
    "CW_new.to_excel(writer,'Sheet1')\n",
    "writer.save()"
   ]
  },
  {
   "cell_type": "code",
   "execution_count": null,
   "metadata": {},
   "outputs": [],
   "source": []
  }
 ],
 "metadata": {
  "kernelspec": {
   "display_name": "Python 3",
   "language": "python",
   "name": "python3"
  },
  "language_info": {
   "codemirror_mode": {
    "name": "ipython",
    "version": 3
   },
   "file_extension": ".py",
   "mimetype": "text/x-python",
   "name": "python",
   "nbconvert_exporter": "python",
   "pygments_lexer": "ipython3",
   "version": "3.6.4"
  }
 },
 "nbformat": 4,
 "nbformat_minor": 2
}
