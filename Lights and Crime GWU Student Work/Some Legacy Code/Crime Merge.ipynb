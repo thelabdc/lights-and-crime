{
 "cells": [
  {
   "cell_type": "code",
   "execution_count": 14,
   "metadata": {},
   "outputs": [
    {
     "name": "stdout",
     "output_type": "stream",
     "text": [
      "Requirement already satisfied: openpyxl in /Users/shilpa/anaconda/lib/python3.6/site-packages (2.4.7)\r\n",
      "Requirement already satisfied: jdcal in /Users/shilpa/anaconda/lib/python3.6/site-packages (from openpyxl) (1.3)\r\n",
      "Requirement already satisfied: et_xmlfile in /Users/shilpa/anaconda/lib/python3.6/site-packages (from openpyxl) (1.0.1)\r\n"
     ]
    }
   ],
   "source": [
    "import pandas as pd\n",
    "!pip install openpyxl\n",
    "% matplotlib inline\n",
    "import matplotlib.pyplot as plt\n",
    "import plotly.plotly as py\n",
    "import numpy as np"
   ]
  },
  {
   "cell_type": "code",
   "execution_count": 15,
   "metadata": {
    "scrolled": true
   },
   "outputs": [
    {
     "data": {
      "text/plain": [
       "Index(['X', 'Y', 'CCN', 'REPORT_DAT', 'SHIFT', 'METHOD', 'OFFENSE', 'BLOCK',\n",
       "       'XBLOCK', 'YBLOCK', 'WARD', 'ANC', 'DISTRICT', 'PSA',\n",
       "       'NEIGHBORHOOD_CLUSTER', 'BLOCK_GROUP', 'CENSUS_TRACT',\n",
       "       'VOTING_PRECINCT', 'LATITUDE', 'LONGITUDE', 'BID', 'START_DATE',\n",
       "       'END_DATE', 'OBJECTID'],\n",
       "      dtype='object')"
      ]
     },
     "execution_count": 15,
     "metadata": {},
     "output_type": "execute_result"
    }
   ],
   "source": [
    "df17= pd.read_csv('Crime_Incidents_in_2017.csv')\n",
    "df17.columns"
   ]
  },
  {
   "cell_type": "code",
   "execution_count": 16,
   "metadata": {},
   "outputs": [
    {
     "data": {
      "text/plain": [
       "33065"
      ]
     },
     "execution_count": 16,
     "metadata": {},
     "output_type": "execute_result"
    }
   ],
   "source": [
    "len(df17)"
   ]
  },
  {
   "cell_type": "code",
   "execution_count": 17,
   "metadata": {},
   "outputs": [
    {
     "data": {
      "text/plain": [
       "Index(['X', 'Y', 'CCN', 'REPORT_DAT', 'SHIFT', 'METHOD', 'OFFENSE', 'BLOCK',\n",
       "       'XBLOCK', 'YBLOCK', 'WARD', 'ANC', 'DISTRICT', 'PSA',\n",
       "       'NEIGHBORHOOD_CLUSTER', 'BLOCK_GROUP', 'CENSUS_TRACT',\n",
       "       'VOTING_PRECINCT', 'LATITUDE', 'LONGITUDE', 'BID', 'START_DATE',\n",
       "       'END_DATE', 'OBJECTID'],\n",
       "      dtype='object')"
      ]
     },
     "execution_count": 17,
     "metadata": {},
     "output_type": "execute_result"
    }
   ],
   "source": [
    "df16= pd.read_csv('Crime_Incidents_in_2016.csv')\n",
    "df16.columns"
   ]
  },
  {
   "cell_type": "code",
   "execution_count": 18,
   "metadata": {},
   "outputs": [
    {
     "data": {
      "text/plain": [
       "Index(['X', 'Y', 'CCN', 'REPORT_DAT', 'SHIFT', 'METHOD', 'OFFENSE', 'BLOCK',\n",
       "       'XBLOCK', 'YBLOCK', 'WARD', 'ANC', 'DISTRICT', 'PSA',\n",
       "       'NEIGHBORHOOD_CLUSTER', 'BLOCK_GROUP', 'CENSUS_TRACT',\n",
       "       'VOTING_PRECINCT', 'LATITUDE', 'LONGITUDE', 'BID', 'START_DATE',\n",
       "       'END_DATE', 'OBJECTID'],\n",
       "      dtype='object')"
      ]
     },
     "execution_count": 18,
     "metadata": {},
     "output_type": "execute_result"
    }
   ],
   "source": [
    "df15= pd.read_csv('Crime_Incidents_in_2015.csv')\n",
    "df15.columns"
   ]
  },
  {
   "cell_type": "code",
   "execution_count": 19,
   "metadata": {},
   "outputs": [
    {
     "data": {
      "text/plain": [
       "Index(['X', 'Y', 'CCN', 'REPORT_DAT', 'SHIFT', 'METHOD', 'OFFENSE', 'BLOCK',\n",
       "       'XBLOCK', 'YBLOCK', 'WARD', 'ANC', 'DISTRICT', 'PSA',\n",
       "       'NEIGHBORHOOD_CLUSTER', 'BLOCK_GROUP', 'CENSUS_TRACT',\n",
       "       'VOTING_PRECINCT', 'LATITUDE', 'LONGITUDE', 'BID', 'START_DATE',\n",
       "       'END_DATE', 'OBJECTID'],\n",
       "      dtype='object')"
      ]
     },
     "execution_count": 19,
     "metadata": {},
     "output_type": "execute_result"
    }
   ],
   "source": [
    "df14= pd.read_csv('Crime_Incidents_in_2014.csv')\n",
    "df14.columns"
   ]
  },
  {
   "cell_type": "code",
   "execution_count": 20,
   "metadata": {},
   "outputs": [
    {
     "data": {
      "text/plain": [
       "Index(['X', 'Y', 'CCN', 'REPORT_DAT', 'SHIFT', 'METHOD', 'OFFENSE', 'BLOCK',\n",
       "       'XBLOCK', 'YBLOCK', 'WARD', 'ANC', 'DISTRICT', 'PSA',\n",
       "       'NEIGHBORHOOD_CLUSTER', 'BLOCK_GROUP', 'CENSUS_TRACT',\n",
       "       'VOTING_PRECINCT', 'LATITUDE', 'LONGITUDE', 'BID', 'START_DATE',\n",
       "       'END_DATE', 'OBJECTID'],\n",
       "      dtype='object')"
      ]
     },
     "execution_count": 20,
     "metadata": {},
     "output_type": "execute_result"
    }
   ],
   "source": [
    "df13= pd.read_csv('Crime_Incidents_in_2013.csv')\n",
    "df13.columns"
   ]
  },
  {
   "cell_type": "code",
   "execution_count": 21,
   "metadata": {},
   "outputs": [
    {
     "data": {
      "text/plain": [
       "Index(['X', 'Y', 'CCN', 'REPORT_DAT', 'SHIFT', 'METHOD', 'OFFENSE', 'BLOCK',\n",
       "       'XBLOCK', 'YBLOCK', 'WARD', 'ANC', 'DISTRICT', 'PSA',\n",
       "       'NEIGHBORHOOD_CLUSTER', 'BLOCK_GROUP', 'CENSUS_TRACT',\n",
       "       'VOTING_PRECINCT', 'LATITUDE', 'LONGITUDE', 'BID', 'START_DATE',\n",
       "       'END_DATE', 'OBJECTID'],\n",
       "      dtype='object')"
      ]
     },
     "execution_count": 21,
     "metadata": {},
     "output_type": "execute_result"
    }
   ],
   "source": [
    "df12= pd.read_csv('Crime_Incidents_in_2012.csv')\n",
    "df12.columns"
   ]
  },
  {
   "cell_type": "code",
   "execution_count": 22,
   "metadata": {},
   "outputs": [
    {
     "data": {
      "text/plain": [
       "Index(['X', 'Y', 'CCN', 'REPORT_DAT', 'SHIFT', 'METHOD', 'OFFENSE', 'BLOCK',\n",
       "       'XBLOCK', 'YBLOCK', 'WARD', 'ANC', 'DISTRICT', 'PSA',\n",
       "       'NEIGHBORHOOD_CLUSTER', 'BLOCK_GROUP', 'CENSUS_TRACT',\n",
       "       'VOTING_PRECINCT', 'LATITUDE', 'LONGITUDE', 'BID', 'START_DATE',\n",
       "       'END_DATE', 'OBJECTID'],\n",
       "      dtype='object')"
      ]
     },
     "execution_count": 22,
     "metadata": {},
     "output_type": "execute_result"
    }
   ],
   "source": [
    "df11= pd.read_csv('Crime_Incidents_in_2011.csv')\n",
    "df11.columns"
   ]
  },
  {
   "cell_type": "code",
   "execution_count": 23,
   "metadata": {},
   "outputs": [
    {
     "data": {
      "text/plain": [
       "Index(['X', 'Y', 'CCN', 'REPORT_DAT', 'SHIFT', 'METHOD', 'OFFENSE', 'BLOCK',\n",
       "       'XBLOCK', 'YBLOCK', 'WARD', 'ANC', 'DISTRICT', 'PSA',\n",
       "       'NEIGHBORHOOD_CLUSTER', 'BLOCK_GROUP', 'CENSUS_TRACT',\n",
       "       'VOTING_PRECINCT', 'LATITUDE', 'LONGITUDE', 'BID', 'START_DATE',\n",
       "       'END_DATE', 'OBJECTID'],\n",
       "      dtype='object')"
      ]
     },
     "execution_count": 23,
     "metadata": {},
     "output_type": "execute_result"
    }
   ],
   "source": [
    "df10= pd.read_csv('Crime_Incidents_in_2010.csv')\n",
    "df10.columns"
   ]
  },
  {
   "cell_type": "code",
   "execution_count": 24,
   "metadata": {
    "scrolled": false
   },
   "outputs": [
    {
     "data": {
      "text/html": [
       "<div>\n",
       "<style>\n",
       "    .dataframe thead tr:only-child th {\n",
       "        text-align: right;\n",
       "    }\n",
       "\n",
       "    .dataframe thead th {\n",
       "        text-align: left;\n",
       "    }\n",
       "\n",
       "    .dataframe tbody tr th {\n",
       "        vertical-align: top;\n",
       "    }\n",
       "</style>\n",
       "<table border=\"1\" class=\"dataframe\">\n",
       "  <thead>\n",
       "    <tr style=\"text-align: right;\">\n",
       "      <th></th>\n",
       "      <th>X</th>\n",
       "      <th>Y</th>\n",
       "      <th>CCN</th>\n",
       "      <th>REPORT_DAT</th>\n",
       "      <th>SHIFT</th>\n",
       "      <th>METHOD</th>\n",
       "      <th>OFFENSE</th>\n",
       "      <th>BLOCK</th>\n",
       "      <th>XBLOCK</th>\n",
       "      <th>YBLOCK</th>\n",
       "      <th>...</th>\n",
       "      <th>NEIGHBORHOOD_CLUSTER</th>\n",
       "      <th>BLOCK_GROUP</th>\n",
       "      <th>CENSUS_TRACT</th>\n",
       "      <th>VOTING_PRECINCT</th>\n",
       "      <th>LATITUDE</th>\n",
       "      <th>LONGITUDE</th>\n",
       "      <th>BID</th>\n",
       "      <th>START_DATE</th>\n",
       "      <th>END_DATE</th>\n",
       "      <th>OBJECTID</th>\n",
       "    </tr>\n",
       "  </thead>\n",
       "  <tbody>\n",
       "    <tr>\n",
       "      <th>0</th>\n",
       "      <td>-76.997558</td>\n",
       "      <td>38.894384</td>\n",
       "      <td>2111617</td>\n",
       "      <td>2017-02-06T20:11:14.000Z</td>\n",
       "      <td>EVENING</td>\n",
       "      <td>OTHERS</td>\n",
       "      <td>THEFT/OTHER</td>\n",
       "      <td>600 - 669 BLOCK OF MARYLAND AVENUE NE</td>\n",
       "      <td>400212.0</td>\n",
       "      <td>136281.0</td>\n",
       "      <td>...</td>\n",
       "      <td>Cluster 25</td>\n",
       "      <td>008302 1</td>\n",
       "      <td>8302.0</td>\n",
       "      <td>Precinct 84</td>\n",
       "      <td>38.894376</td>\n",
       "      <td>-76.997556</td>\n",
       "      <td>CAPITOL HILL</td>\n",
       "      <td>2017-02-01T11:55:55.000Z</td>\n",
       "      <td>NaN</td>\n",
       "      <td>166160586</td>\n",
       "    </tr>\n",
       "    <tr>\n",
       "      <th>1</th>\n",
       "      <td>-77.058663</td>\n",
       "      <td>38.906846</td>\n",
       "      <td>7093973</td>\n",
       "      <td>2017-06-03T12:54:27.000Z</td>\n",
       "      <td>DAY</td>\n",
       "      <td>OTHERS</td>\n",
       "      <td>THEFT F/AUTO</td>\n",
       "      <td>2900 - 2999 BLOCK OF N STREET NW</td>\n",
       "      <td>394912.0</td>\n",
       "      <td>137666.0</td>\n",
       "      <td>...</td>\n",
       "      <td>Cluster 4</td>\n",
       "      <td>000100 4</td>\n",
       "      <td>100.0</td>\n",
       "      <td>Precinct 5</td>\n",
       "      <td>38.906838</td>\n",
       "      <td>-77.058661</td>\n",
       "      <td>NaN</td>\n",
       "      <td>2017-06-03T11:54:03.000Z</td>\n",
       "      <td>2017-06-03T11:55:05.000Z</td>\n",
       "      <td>166160673</td>\n",
       "    </tr>\n",
       "    <tr>\n",
       "      <th>2</th>\n",
       "      <td>-77.018036</td>\n",
       "      <td>38.960747</td>\n",
       "      <td>9251904</td>\n",
       "      <td>2017-04-07T00:00:00.000Z</td>\n",
       "      <td>MIDNIGHT</td>\n",
       "      <td>OTHERS</td>\n",
       "      <td>HOMICIDE</td>\n",
       "      <td>5800  - 5899 BLOCK OF 4TH STREET NW</td>\n",
       "      <td>398437.0</td>\n",
       "      <td>143648.0</td>\n",
       "      <td>...</td>\n",
       "      <td>Cluster 17</td>\n",
       "      <td>001902 1</td>\n",
       "      <td>1902.0</td>\n",
       "      <td>Precinct 58</td>\n",
       "      <td>38.960739</td>\n",
       "      <td>-77.018034</td>\n",
       "      <td>NaN</td>\n",
       "      <td>2009-02-13T12:03:45.000Z</td>\n",
       "      <td>2009-02-13T12:03:43.000Z</td>\n",
       "      <td>166180501</td>\n",
       "    </tr>\n",
       "    <tr>\n",
       "      <th>3</th>\n",
       "      <td>-77.007090</td>\n",
       "      <td>38.876484</td>\n",
       "      <td>16220713</td>\n",
       "      <td>2017-01-01T01:56:49.000Z</td>\n",
       "      <td>MIDNIGHT</td>\n",
       "      <td>GUN</td>\n",
       "      <td>ASSAULT W/DANGEROUS WEAPON</td>\n",
       "      <td>50 - 53 BLOCK OF M STREET SE</td>\n",
       "      <td>399385.0</td>\n",
       "      <td>134294.0</td>\n",
       "      <td>...</td>\n",
       "      <td>Cluster 27</td>\n",
       "      <td>007200 2</td>\n",
       "      <td>7200.0</td>\n",
       "      <td>Precinct 131</td>\n",
       "      <td>38.876476</td>\n",
       "      <td>-77.007088</td>\n",
       "      <td>CAPITOL RIVERFRONT</td>\n",
       "      <td>2016-12-31T23:02:54.000Z</td>\n",
       "      <td>2016-12-31T23:04:41.000Z</td>\n",
       "      <td>166328223</td>\n",
       "    </tr>\n",
       "    <tr>\n",
       "      <th>4</th>\n",
       "      <td>-77.030636</td>\n",
       "      <td>38.907910</td>\n",
       "      <td>16216813</td>\n",
       "      <td>2017-01-04T12:56:23.000Z</td>\n",
       "      <td>DAY</td>\n",
       "      <td>OTHERS</td>\n",
       "      <td>MOTOR VEHICLE THEFT</td>\n",
       "      <td>1300 - 1399 BLOCK OF VERMONT AVENUE NW</td>\n",
       "      <td>397343.0</td>\n",
       "      <td>137783.0</td>\n",
       "      <td>...</td>\n",
       "      <td>Cluster 7</td>\n",
       "      <td>005002 2</td>\n",
       "      <td>5002.0</td>\n",
       "      <td>Precinct 17</td>\n",
       "      <td>38.907903</td>\n",
       "      <td>-77.030634</td>\n",
       "      <td>NaN</td>\n",
       "      <td>2016-12-23T20:15:01.000Z</td>\n",
       "      <td>2016-12-24T03:15:16.000Z</td>\n",
       "      <td>166329153</td>\n",
       "    </tr>\n",
       "  </tbody>\n",
       "</table>\n",
       "<p>5 rows × 24 columns</p>\n",
       "</div>"
      ],
      "text/plain": [
       "           X          Y       CCN                REPORT_DAT     SHIFT  METHOD  \\\n",
       "0 -76.997558  38.894384   2111617  2017-02-06T20:11:14.000Z   EVENING  OTHERS   \n",
       "1 -77.058663  38.906846   7093973  2017-06-03T12:54:27.000Z       DAY  OTHERS   \n",
       "2 -77.018036  38.960747   9251904  2017-04-07T00:00:00.000Z  MIDNIGHT  OTHERS   \n",
       "3 -77.007090  38.876484  16220713  2017-01-01T01:56:49.000Z  MIDNIGHT     GUN   \n",
       "4 -77.030636  38.907910  16216813  2017-01-04T12:56:23.000Z       DAY  OTHERS   \n",
       "\n",
       "                      OFFENSE                                   BLOCK  \\\n",
       "0                 THEFT/OTHER   600 - 669 BLOCK OF MARYLAND AVENUE NE   \n",
       "1                THEFT F/AUTO        2900 - 2999 BLOCK OF N STREET NW   \n",
       "2                    HOMICIDE     5800  - 5899 BLOCK OF 4TH STREET NW   \n",
       "3  ASSAULT W/DANGEROUS WEAPON            50 - 53 BLOCK OF M STREET SE   \n",
       "4         MOTOR VEHICLE THEFT  1300 - 1399 BLOCK OF VERMONT AVENUE NW   \n",
       "\n",
       "     XBLOCK    YBLOCK    ...      NEIGHBORHOOD_CLUSTER BLOCK_GROUP  \\\n",
       "0  400212.0  136281.0    ...                Cluster 25    008302 1   \n",
       "1  394912.0  137666.0    ...                 Cluster 4    000100 4   \n",
       "2  398437.0  143648.0    ...                Cluster 17    001902 1   \n",
       "3  399385.0  134294.0    ...                Cluster 27    007200 2   \n",
       "4  397343.0  137783.0    ...                 Cluster 7    005002 2   \n",
       "\n",
       "   CENSUS_TRACT  VOTING_PRECINCT   LATITUDE  LONGITUDE                 BID  \\\n",
       "0        8302.0      Precinct 84  38.894376 -76.997556        CAPITOL HILL   \n",
       "1         100.0       Precinct 5  38.906838 -77.058661                 NaN   \n",
       "2        1902.0      Precinct 58  38.960739 -77.018034                 NaN   \n",
       "3        7200.0     Precinct 131  38.876476 -77.007088  CAPITOL RIVERFRONT   \n",
       "4        5002.0      Precinct 17  38.907903 -77.030634                 NaN   \n",
       "\n",
       "                 START_DATE                  END_DATE   OBJECTID  \n",
       "0  2017-02-01T11:55:55.000Z                       NaN  166160586  \n",
       "1  2017-06-03T11:54:03.000Z  2017-06-03T11:55:05.000Z  166160673  \n",
       "2  2009-02-13T12:03:45.000Z  2009-02-13T12:03:43.000Z  166180501  \n",
       "3  2016-12-31T23:02:54.000Z  2016-12-31T23:04:41.000Z  166328223  \n",
       "4  2016-12-23T20:15:01.000Z  2016-12-24T03:15:16.000Z  166329153  \n",
       "\n",
       "[5 rows x 24 columns]"
      ]
     },
     "execution_count": 24,
     "metadata": {},
     "output_type": "execute_result"
    }
   ],
   "source": [
    "#Joining data from year 2010 to 2017\n",
    "frames = pd.concat([df17, df16, df15, df14, df13, df12, df11, df10], axis=0, join='inner')\n",
    "frames.head(5)"
   ]
  },
  {
   "cell_type": "code",
   "execution_count": null,
   "metadata": {
    "collapsed": true
   },
   "outputs": [],
   "source": [
    "writer = pd.ExcelWriter('crimes.xlsx')\n",
    "frames.to_excel(writer,'Sheet1')\n",
    "writer.save()"
   ]
  },
  {
   "cell_type": "code",
   "execution_count": 45,
   "metadata": {
    "scrolled": true
   },
   "outputs": [
    {
     "data": {
      "text/plain": [
       "<matplotlib.axes._subplots.AxesSubplot at 0x138696ba8>"
      ]
     },
     "execution_count": 45,
     "metadata": {},
     "output_type": "execute_result"
    },
    {
     "data": {
      "image/png": "[encoded data removed]",
      "text/plain": [
       "<matplotlib.figure.Figure at 0x133ed4588>"
      ]
     },
     "metadata": {},
     "output_type": "display_data"
    }
   ],
   "source": [
    "frames['SHIFT'].value_counts().plot(kind='bar')"
   ]
  },
  {
   "cell_type": "code",
   "execution_count": 36,
   "metadata": {},
   "outputs": [
    {
     "data": {
      "text/plain": [
       "<matplotlib.axes._subplots.AxesSubplot at 0x1305f0198>"
      ]
     },
     "execution_count": 36,
     "metadata": {},
     "output_type": "execute_result"
    },
    {
     "data": {
      "image/png": "[encoded data removed]",
      "text/plain": [
       "<matplotlib.figure.Figure at 0x130604278>"
      ]
     },
     "metadata": {},
     "output_type": "display_data"
    }
   ],
   "source": [
    "frames['METHOD'].value_counts().plot(kind='bar')"
   ]
  },
  {
   "cell_type": "code",
   "execution_count": 44,
   "metadata": {},
   "outputs": [
    {
     "data": {
      "text/plain": [
       "<matplotlib.axes._subplots.AxesSubplot at 0x139633080>"
      ]
     },
     "execution_count": 44,
     "metadata": {},
     "output_type": "execute_result"
    },
    {
     "data": {
      "image/png": "[encoded data removed]",
      "text/plain": [
       "<matplotlib.figure.Figure at 0x13868a2e8>"
      ]
     },
     "metadata": {},
     "output_type": "display_data"
    }
   ],
   "source": [
    "frames.plot(kind='scatter',c='purple',x='X',y='Y')"
   ]
  },
  {
   "cell_type": "code",
   "execution_count": null,
   "metadata": {
    "collapsed": true
   },
   "outputs": [],
   "source": []
  }
 ],
 "metadata": {
  "kernelspec": {
   "display_name": "Python 3",
   "language": "python",
   "name": "python3"
  },
  "language_info": {
   "codemirror_mode": {
    "name": "ipython",
    "version": 3
   },
   "file_extension": ".py",
   "mimetype": "text/x-python",
   "name": "python",
   "nbconvert_exporter": "python",
   "pygments_lexer": "ipython3",
   "version": "3.6.1"
  }
 },
 "nbformat": 4,
 "nbformat_minor": 2
}
