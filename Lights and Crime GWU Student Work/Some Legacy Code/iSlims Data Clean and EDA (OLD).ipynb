{
 "cells": [
  {
   "cell_type": "code",
   "execution_count": 1,
   "metadata": {},
   "outputs": [],
   "source": [
    "#%% Merging and Cleaning iSLims data\n",
    "# Garrett\n",
    "\n",
    "# Packages\n",
    "import pandas as pd"
   ]
  },
  {
   "cell_type": "code",
   "execution_count": 2,
   "metadata": {},
   "outputs": [],
   "source": [
    "# Loading data\n",
    "wo = pd.read_excel('C:/Users/Sade/Documents/GitHub/lights-and-crime/Lights and Crime Garrett/Data/islims_workorders.xlsx')\n",
    "de = pd.read_excel('C:/Users/Sade/Documents/GitHub/lights-and-crime/Lights and Crime Garrett/Data/islims_workorders_detail.xlsx')\n",
    "iv = pd.read_excel('C:/Users/Sade/Documents/GitHub/lights-and-crime/Lights and Crime Garrett/Data/islims_inventory.xlsx')\n",
    "fc = pd.read_excel('C:/Users/Sade/Documents/GitHub/lights-and-crime/Lights and Crime Garrett/Data/islims_failure_codes.xlsx')"
   ]
  },
  {
   "cell_type": "code",
   "execution_count": 183,
   "metadata": {},
   "outputs": [],
   "source": [
    "# Merging work order and details sets on woID\n",
    "wode = pd.merge(wo, de, on='woID')"
   ]
  },
  {
   "cell_type": "code",
   "execution_count": 184,
   "metadata": {},
   "outputs": [],
   "source": [
    "# Merging wode and inventory sets on inventoryID\n",
    "iSlimsa = pd.merge(wode, iv, on='inventoryID')"
   ]
  },
  {
   "cell_type": "code",
   "execution_count": 185,
   "metadata": {},
   "outputs": [],
   "source": [
    "# Merging the GPS coordinates to fill in as many NaN gaps as possible\n",
    "gpsX = iSlimsa['gpscoordinateX_x'].combine_first(iSlimsa['gpscoordinateX_y'])\n",
    "gpsX = gpsX.combine_first(iSlimsa['gpscoordinateX_x'])\n",
    "gpsY = iSlimsa['gpscoordinateY_x'].combine_first(iSlimsa['gpscoordinateY_y'])\n",
    "gpsY = gpsY.combine_first(iSlimsa['gpscoordinateY_x'])"
   ]
  },
  {
   "cell_type": "code",
   "execution_count": 186,
   "metadata": {},
   "outputs": [],
   "source": [
    "# Removing irrelevant variables\n",
    "iSlimsb = iSlimsa.iloc[:,0:18]\n",
    "iSlimsb['gpsX'] = gpsX\n",
    "iSlimsb['gpsY'] = gpsY"
   ]
  },
  {
   "cell_type": "code",
   "execution_count": 187,
   "metadata": {},
   "outputs": [],
   "source": [
    "# final merged dataset\n",
    "iSlimsc = iSlimsb.drop(['gpscoordinateX_x', 'gpscoordinateY_x'], axis = 1)"
   ]
  },
  {
   "cell_type": "code",
   "execution_count": 188,
   "metadata": {},
   "outputs": [],
   "source": [
    "# Throwing out observations without GPS coordinate\n",
    "iSlimsd = iSlimsc.dropna(subset = ['gpsX', 'gpsY'])"
   ]
  },
  {
   "cell_type": "code",
   "execution_count": 189,
   "metadata": {},
   "outputs": [
    {
     "data": {
      "text/html": [
       "<div>\n",
       "<style scoped>\n",
       "    .dataframe tbody tr th:only-of-type {\n",
       "        vertical-align: middle;\n",
       "    }\n",
       "\n",
       "    .dataframe tbody tr th {\n",
       "        vertical-align: top;\n",
       "    }\n",
       "\n",
       "    .dataframe thead th {\n",
       "        text-align: right;\n",
       "    }\n",
       "</style>\n",
       "<table border=\"1\" class=\"dataframe\">\n",
       "  <thead>\n",
       "    <tr style=\"text-align: right;\">\n",
       "      <th></th>\n",
       "      <th>failcodeID</th>\n",
       "      <th>description</th>\n",
       "    </tr>\n",
       "  </thead>\n",
       "  <tbody>\n",
       "    <tr>\n",
       "      <th>0</th>\n",
       "      <td>2</td>\n",
       "      <td>(Light out)</td>\n",
       "    </tr>\n",
       "    <tr>\n",
       "      <th>1</th>\n",
       "      <td>3</td>\n",
       "      <td>(Light off/on)</td>\n",
       "    </tr>\n",
       "    <tr>\n",
       "      <th>2</th>\n",
       "      <td>4</td>\n",
       "      <td>(Light dim)</td>\n",
       "    </tr>\n",
       "    <tr>\n",
       "      <th>10</th>\n",
       "      <td>12</td>\n",
       "      <td>(Trim tree from Light)</td>\n",
       "    </tr>\n",
       "    <tr>\n",
       "      <th>16</th>\n",
       "      <td>18</td>\n",
       "      <td>(Convert street light)</td>\n",
       "    </tr>\n",
       "  </tbody>\n",
       "</table>\n",
       "</div>"
      ],
      "text/plain": [
       "    failcodeID             description\n",
       "0            2             (Light out)\n",
       "1            3          (Light off/on)\n",
       "2            4             (Light dim)\n",
       "10          12  (Trim tree from Light)\n",
       "16          18  (Convert street light)"
      ]
     },
     "execution_count": 189,
     "metadata": {},
     "output_type": "execute_result"
    }
   ],
   "source": [
    "# Will use codes: 2, 196, 201, 209\n",
    "fc[fc['description'].str.contains('ight')].head()"
   ]
  },
  {
   "cell_type": "code",
   "execution_count": 190,
   "metadata": {},
   "outputs": [],
   "source": [
    "# Filtering by observations with the desired failure codes\n",
    "iSlimse = iSlimsd[iSlimsd['finalresolutionID'].isin([2, 196, 201, 209])]"
   ]
  },
  {
   "cell_type": "code",
   "execution_count": 191,
   "metadata": {},
   "outputs": [],
   "source": [
    "# Filtering by times of interest\n",
    "resolv_t = (iSlimse['resolveddatetime'] > '2007-12-31') & (iSlimse['resolveddatetime'] < '2017-01-01') \n",
    "enter_t = (iSlimse['entereddate_x'] > '2007-12-31') & (iSlimse['entereddate_x'] < '2017-01-01')\n",
    "iSlimsf = iSlimse[resolv_t & enter_t]"
   ]
  },
  {
   "cell_type": "code",
   "execution_count": 192,
   "metadata": {},
   "outputs": [
    {
     "data": {
      "text/plain": [
       "2      174716\n",
       "196       488\n",
       "209        79\n",
       "201         5\n",
       "Name: finalresolutionID, dtype: int64"
      ]
     },
     "execution_count": 192,
     "metadata": {},
     "output_type": "execute_result"
    }
   ],
   "source": [
    "# Filtering out observations with excessively long completion / late completion times\n",
    "iSlimsg = iSlimsf[(iSlimsf['daysToComplete'] <= 14) & (iSlims['daysLate'] <= 7)]\n",
    "iSlimsg['finalresolutionID'].value_counts()"
   ]
  },
  {
   "cell_type": "code",
   "execution_count": 193,
   "metadata": {},
   "outputs": [],
   "source": [
    "# Dropping duplicate woID's\n",
    "iSlims = iSlimsg.drop_duplicates(subset = ['woID'])"
   ]
  },
  {
   "cell_type": "code",
   "execution_count": 195,
   "metadata": {},
   "outputs": [],
   "source": [
    "iSlims.to_excel('C:/Users/Sade/Documents/GitHub/lights-and-crime/Lights and Crime Garrett/Data/iSlims_final.xlsx')"
   ]
  }
 ],
 "metadata": {
  "kernelspec": {
   "display_name": "Python 3",
   "language": "python",
   "name": "python3"
  },
  "language_info": {
   "codemirror_mode": {
    "name": "ipython",
    "version": 3
   },
   "file_extension": ".py",
   "mimetype": "text/x-python",
   "name": "python",
   "nbconvert_exporter": "python",
   "pygments_lexer": "ipython3",
   "version": "3.6.5"
  }
 },
 "nbformat": 4,
 "nbformat_minor": 2
}
